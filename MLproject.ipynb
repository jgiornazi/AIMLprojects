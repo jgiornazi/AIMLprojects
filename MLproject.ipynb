{
 "cells": [
  {https://github.com/jgiornazi/AIMLprojects/blob/master/Untitled.ipynb
   "cell_type": "code",
   "execution_count": 1,
   "id": "af39ca28",
   "metadata": {},
   "outputs": [],
   "source": [
    "# !pip install -r requirements.txt #uncomment to install all required packages\n",
    "import numpy as np\n",
    "import pandas as pd\n",
    "\n",
    "from sklearn.metrics import accuracy_score, confusion_matrix\n",
    "from sklearn.model_selection import train_test_split\n",
    "from sklearn.tree import DecisionTreeClassifier, plot_tree\n",
    "from sklearn.ensemble import BaggingClassifier\n",
    "from sklearn.ensemble import AdaBoostClassifier\n",
    "\n",
    "\n",
    "import datetime\n",
    "import time\n",
    "\n",
    "import matplotlib.pyplot as plt\n",
    "import data\n",
    "import os\n",
    "\n",
    "from sklearn.preprocessing import StandardScaler"
   ]
  },
  {
   "cell_type": "code",
   "execution_count": 2,
   "id": "abc30f25",
   "metadata": {},
   "outputs": [],
   "source": [
    "current_folder = os.path.dirname(os.path.abspath('__file__'))\n",
    "df = pd.read_csv(os.path.join(current_folder, \"data/train.csv\") )\n",
    "\n",
    "df['state'] = pd.factorize(df['state'])[0]\n",
    "df['side']= pd.factorize(df['side'])[0]\n",
    "df['start'] = pd.to_datetime(df['start'])\n",
    "df['end']= pd.to_datetime(df['end'])"
   ]
  },
  {
   "cell_type": "code",
   "execution_count": 3,
   "id": "1b105c6a",
   "metadata": {
    "scrolled": true
   },
   "outputs": [
    {
     "data": {
      "text/html": [
       "<div>\n",
       "<style scoped>\n",
       "    .dataframe tbody tr th:only-of-type {\n",
       "        vertical-align: middle;\n",
       "    }\n",
       "\n",
       "    .dataframe tbody tr th {\n",
       "        vertical-align: top;\n",
       "    }\n",
       "\n",
       "    .dataframe thead th {\n",
       "        text-align: right;\n",
       "    }\n",
       "</style>\n",
       "<table border=\"1\" class=\"dataframe\">\n",
       "  <thead>\n",
       "    <tr style=\"text-align: right;\">\n",
       "      <th></th>\n",
       "      <th>start</th>\n",
       "      <th>end</th>\n",
       "    </tr>\n",
       "  </thead>\n",
       "  <tbody>\n",
       "    <tr>\n",
       "      <th>0</th>\n",
       "      <td>2018-01-01 00:00:00</td>\n",
       "      <td>2018-01-01 00:43:11</td>\n",
       "    </tr>\n",
       "    <tr>\n",
       "      <th>1</th>\n",
       "      <td>2018-01-01 00:00:00</td>\n",
       "      <td>2018-01-01 23:59:59</td>\n",
       "    </tr>\n",
       "    <tr>\n",
       "      <th>2</th>\n",
       "      <td>2018-01-01 00:00:00</td>\n",
       "      <td>2018-01-01 00:40:40</td>\n",
       "    </tr>\n",
       "    <tr>\n",
       "      <th>3</th>\n",
       "      <td>2018-01-01 00:00:00</td>\n",
       "      <td>2018-01-01 23:59:59</td>\n",
       "    </tr>\n",
       "    <tr>\n",
       "      <th>4</th>\n",
       "      <td>2018-01-01 00:01:00</td>\n",
       "      <td>2018-06-29 23:59:00</td>\n",
       "    </tr>\n",
       "  </tbody>\n",
       "</table>\n",
       "</div>"
      ],
      "text/plain": [
       "                start                 end\n",
       "0 2018-01-01 00:00:00 2018-01-01 00:43:11\n",
       "1 2018-01-01 00:00:00 2018-01-01 23:59:59\n",
       "2 2018-01-01 00:00:00 2018-01-01 00:40:40\n",
       "3 2018-01-01 00:00:00 2018-01-01 23:59:59\n",
       "4 2018-01-01 00:01:00 2018-06-29 23:59:00"
      ]
     },
     "execution_count": 3,
     "metadata": {},
     "output_type": "execute_result"
    }
   ],
   "source": [
    "df.head()\n",
    "time = df.drop(columns=[\"id\", \"event\", \"lat\", \"lng\", \"side\", \"state\"])\n",
    "X = df.drop(columns=[\"id\", \"event\", \"start\", \"end\"])\n",
    "y = df['event']\n",
    "test = time.head()\n",
    "test"
   ]
  },
  {
   "cell_type": "code",
   "execution_count": 4,
   "id": "30fd27ff",
   "metadata": {},
   "outputs": [],
   "source": [
    "# test_time = pd.DataFrame(index = test.index, columns =[\"LateNight\", \"EarlyMorn\", \"Morn\", \"Noon\", \"Evening\", \"Night\"])\n",
    "\n",
    "\n"
   ]
  },
  {
   "cell_type": "code",
   "execution_count": 5,
   "id": "5062ca06",
   "metadata": {},
   "outputs": [],
   "source": [
    "# start = 1\n",
    "# end = 5\n",
    "# time_of_day = [start, end]\n",
    "# for k in range(end-start - 1):\n",
    "#     start+=1\n",
    "#     counter = start\n",
    "#     time_of_day.append(counter)\n",
    "\n",
    "# time_of_day"
   ]
  },
  {
   "cell_type": "code",
   "execution_count": 6,
   "id": "df1c045b",
   "metadata": {},
   "outputs": [],
   "source": [
    "# start = 4\n",
    "# end = 2\n",
    "# time_of_day = [start, end]\n",
    "# for k in range(start-end+1):\n",
    "#     counter = (start+1)%7\n",
    "#     if((start+1)%7 == 0):\n",
    "#         counter = 1\n",
    "#     time_of_day.append(counter)\n",
    "#     start+=1\n",
    "# time_of_day"
   ]
  },
  {
   "cell_type": "code",
   "execution_count": 7,
   "id": "cd2d744f",
   "metadata": {},
   "outputs": [],
   "source": [
    "# (time['start'][7681298].hour % 24 + 4) // 4 \n",
    "# time.index"
   ]
  },
  {
   "cell_type": "code",
   "execution_count": null,
   "id": "71c4aa60",
   "metadata": {},
   "outputs": [],
   "source": [
    "time_of_day = pd.DataFrame(index = X.index, columns =[\"LateNight\", \"EarlyMorn\", \"Morn\", \"Noon\", \"Evening\", \"Night\"])\n",
    "for i, row in time.iterrows():\n",
    "    start = (time['start'][i].hour % 24 + 4) // 4 \n",
    "    end = (time['end'][i].hour % 24 + 4) // 4 \n",
    "    \n",
    "    if(start < end):\n",
    "        tarr = [start, end]\n",
    "        for k in range(end-start - 1):\n",
    "            start+=1\n",
    "            counter = start\n",
    "            tarr.append(counter)\n",
    "        if(1 in tarr):\n",
    "            time_of_day.at[i, \"LateNight\"] = 1\n",
    "        else:\n",
    "            time_of_day.at[i, \"LateNight\"] = 0\n",
    "        if(2 in tarr):\n",
    "            time_of_day.at[i, \"EarlyMorn\"] = 1\n",
    "        else:\n",
    "            time_of_day.at[i, \"EarlyMorn\"] = 0\n",
    "        if(3 in tarr):\n",
    "            time_of_day.at[i, \"Morn\"] = 1\n",
    "        else:\n",
    "            time_of_day.at[i, \"Morn\"] = 0\n",
    "        if(4 in tarr):\n",
    "            time_of_day.at[i, \"Noon\"] = 1\n",
    "        else:\n",
    "            time_of_day.at[i, \"Noon\"] = 0\n",
    "        if(5 in tarr):\n",
    "            time_of_day.at[i, \"Evening\"] = 1\n",
    "        else:\n",
    "            time_of_day.at[i, \"Evening\"] = 0\n",
    "        if(6 in tarr):\n",
    "            time_of_day.at[i, \"Night\"] = 1\n",
    "        else:\n",
    "            time_of_day.at[i, \"Night\"] = 0\n",
    "            \n",
    "    if(end < start):\n",
    "        tarr = [start, end]\n",
    "        for k in range(start-end+1):\n",
    "            counter = (start+1)%7\n",
    "            if((start+1)%7 == 0):\n",
    "                counter = 1\n",
    "            tarr.append(counter)\n",
    "            start+=1\n",
    "        if(1 in tarr):\n",
    "            time_of_day.at[i, \"LateNight\"] = 1\n",
    "        else:\n",
    "            time_of_day.at[i, \"LateNight\"] = 0\n",
    "        if(2 in tarr):\n",
    "            time_of_day.at[i, \"EarlyMorn\"] = 1\n",
    "        else:\n",
    "            time_of_day.at[i, \"EarlyMorn\"] = 0\n",
    "        if(3 in tarr):\n",
    "            time_of_day.at[i, \"Morn\"] = 1\n",
    "        else:\n",
    "            time_of_day.at[i, \"Morn\"] = 0\n",
    "        if(4 in tarr):\n",
    "            time_of_day.at[i, \"Noon\"] = 1\n",
    "        else:\n",
    "            time_of_day.at[i, \"Noon\"] = 0\n",
    "        if(5 in tarr):\n",
    "            time_of_day.at[i, \"Evening\"] = 1\n",
    "        else:\n",
    "            time_of_day.at[i, \"Evening\"] = 0\n",
    "        if(6 in tarr):\n",
    "            time_of_day.at[i, \"Night\"] = 1\n",
    "        else:\n",
    "            time_of_day.at[i, \"Night\"] = 0\n",
    "            \n",
    "    if(start == end):\n",
    "        tarr = [start]\n",
    "        if(1 in tarr):\n",
    "            time_of_day.at[i, \"LateNight\"] = 1\n",
    "        else:\n",
    "            time_of_day.at[i, \"LateNight\"] = 0\n",
    "        if(2 in tarr):\n",
    "            time_of_day.at[i, \"EarlyMorn\"] = 1\n",
    "        else:\n",
    "            time_of_day.at[i, \"EarlyMorn\"] = 0\n",
    "        if(3 in tarr):\n",
    "            time_of_day.at[i, \"Morn\"] = 1\n",
    "        else:\n",
    "            time_of_day.at[i, \"Morn\"] = 0\n",
    "        if(4 in tarr):\n",
    "            time_of_day.at[i, \"Noon\"] = 1\n",
    "        else:\n",
    "            time_of_day.at[i, \"Noon\"] = 0\n",
    "        if(5 in tarr):\n",
    "            time_of_day.at[i, \"Evening\"] = 1\n",
    "        else:\n",
    "            time_of_day.at[i, \"Evening\"] = 0\n",
    "        if(6 in tarr):\n",
    "            time_of_day.at[i, \"Night\"] = 1\n",
    "        else:\n",
    "            time_of_day.at[i, \"Night\"] = 0\n",
    "    "
   ]
  },
  {
   "cell_type": "code",
   "execution_count": null,
   "id": "aa67ed43",
   "metadata": {},
   "outputs": [],
   "source": [
    "time_of_day"
   ]
  },
  {
   "cell_type": "code",
   "execution_count": null,
   "id": "6fbfae73",
   "metadata": {},
   "outputs": [],
   "source": [
    "X = X.join(time_of_day)\n"
   ]
  },
  {
   "cell_type": "code",
   "execution_count": null,
   "id": "7d725d35",
   "metadata": {},
   "outputs": [],
   "source": [
    "X_train,X_test,y_train,y_test = train_test_split(X,y, test_size=0.33, random_state=324)"
   ]
  },
  {
   "cell_type": "code",
   "execution_count": null,
   "id": "d777e216",
   "metadata": {},
   "outputs": [],
   "source": [
    "scaler = StandardScaler().fit(X_train)\n",
    "X_train = scaler.transform(X_train)\n",
    "X_test = scaler.transform(X_test)\n"
   ]
  },
  {
   "cell_type": "code",
   "execution_count": null,
   "id": "92e27c20",
   "metadata": {},
   "outputs": [],
   "source": [
    "event_classifier = DecisionTreeClassifier(max_depth = 5, random_state=42)\n",
    "event_classifier.fit(X_train, y_train)"
   ]
  },
  {
   "cell_type": "code",
   "execution_count": null,
   "id": "c58e4b52",
   "metadata": {},
   "outputs": [],
   "source": [
    "bag = BaggingClassifier(n_estimators=30)\n",
    "bag.fit(X_train, y_train)\n"
   ]
  },
  {
   "cell_type": "code",
   "execution_count": null,
   "id": "00f38074",
   "metadata": {},
   "outputs": [],
   "source": [
    "clf = AdaBoostClassifier(event_classifier, n_estimators=30, random_state=42)\n",
    "clf.fit(X_train, y_train)"
   ]
  },
  {
   "cell_type": "code",
   "execution_count": null,
   "id": "b031f70c",
   "metadata": {},
   "outputs": [],
   "source": [
    "y_pred = event_classifier.predict(X_test)\n",
    "accuracy_score(y_test,y_pred)*100"
   ]
  },
  {
   "cell_type": "code",
   "execution_count": null,
   "id": "e69a809e",
   "metadata": {},
   "outputs": [],
   "source": [
    "y_pred_bad = bag.predict(X_test)\n",
    "accuracy_score(y_test, y_pred_bad)"
   ]
  },
  {
   "cell_type": "code",
   "execution_count": null,
   "id": "2adf7908",
   "metadata": {},
   "outputs": [],
   "source": [
    "y_pred_ADA = clf.predict(X_test)"
   ]
  },
  {
   "cell_type": "code",
   "execution_count": null,
   "id": "80983d38",
   "metadata": {},
   "outputs": [],
   "source": [
    "accuracy_score(y_test, y_pred_ADA)"
   ]
  },
  {
   "cell_type": "markdown",
   "id": "a8020872",
   "metadata": {},
   "source": [
    "## Data for Submission I think"
   ]
  },
  {
   "cell_type": "code",
   "execution_count": null,
   "id": "47e50f03",
   "metadata": {},
   "outputs": [],
   "source": [
    "current_folder = os.path.dirname(os.path.abspath('__file__'))\n",
    "dft = pd.read_csv(os.path.join(current_folder, \"data/test.csv\") )\n",
    "dft['state'] = pd.factorize(dft['state'])[0]\n",
    "dft['side']= pd.factorize(dft['side'])[0]\n",
    "dft[\"time\"] = pd.to_datetime(dft['time'])\n",
    "X_final = dft.drop(columns=[\"id\", \"time\"])\n",
    "dft.head()\n",
    "final_time = dft.drop(columns=[\"id\", \"lat\", \"lng\", \"side\", \"state\"])"
   ]
  },
  {
   "cell_type": "code",
   "execution_count": null,
   "id": "411fee08",
   "metadata": {
    "scrolled": true
   },
   "outputs": [],
   "source": [
    "time_of_day = pd.DataFrame(index = X_final.index, columns =[\"LateNight\", \"EarlyMorn\", \"Morn\", \"Noon\", \"Evening\", \"Night\"])\n",
    "for i, row in final_time.iterrows():\n",
    "    start = (final_time['time'][i].hour % 24 + 4) // 4 \n",
    "    \n",
    "    if(1 == start):\n",
    "        time_of_day.at[i, \"LateNight\"] = 1\n",
    "    else:\n",
    "        time_of_day.at[i, \"LateNight\"] = 0\n",
    "    if(2 == start):\n",
    "        time_of_day.at[i, \"EarlyMorn\"] = 1\n",
    "    else:\n",
    "        time_of_day.at[i, \"EarlyMorn\"] = 0\n",
    "    if(3 == start):\n",
    "        time_of_day.at[i, \"Morn\"] = 1\n",
    "    else:\n",
    "        time_of_day.at[i, \"Morn\"] = 0\n",
    "    if(4 == start):\n",
    "        time_of_day.at[i, \"Noon\"] = 1\n",
    "    else:\n",
    "        time_of_day.at[i, \"Noon\"] = 0\n",
    "    if(5 == start):\n",
    "        time_of_day.at[i, \"Evening\"] = 1\n",
    "    else:\n",
    "        time_of_day.at[i, \"Evening\"] = 0\n",
    "    if(6 == start):\n",
    "        time_of_day.at[i, \"Night\"] = 1\n",
    "    else:\n",
    "        time_of_day.at[i, \"Night\"] = 0\n",
    "time_of_day.head()"
   ]
  },
  {
   "cell_type": "code",
   "execution_count": null,
   "id": "fe274b64",
   "metadata": {},
   "outputs": [],
   "source": [
    "X_final=X_final.join(time_of_day)"
   ]
  },
  {
   "cell_type": "code",
   "execution_count": null,
   "id": "6f764e19",
   "metadata": {},
   "outputs": [],
   "source": [
    "# y_pred = event_classifier.predict(X_final)\n",
    "# y_pred = bag.predict(X_final)\n",
    "y_pred = clf.predict(X_final)\n",
    "y_pred"
   ]
  },
  {
   "cell_type": "code",
   "execution_count": null,
   "id": "92de4c94",
   "metadata": {},
   "outputs": [],
   "source": [
    "submit = pd.DataFrame(data=y_pred, index=dft['id'], columns=['event'] )"
   ]
  },
  {
   "cell_type": "code",
   "execution_count": null,
   "id": "ff8a172e",
   "metadata": {},
   "outputs": [],
   "source": []
  },
  {
   "cell_type": "code",
   "execution_count": null,
   "id": "1cf6f37a",
   "metadata": {},
   "outputs": [],
   "source": [
    "submit.to_csv('./submission.csv')"
   ]
  },
  {
   "cell_type": "code",
   "execution_count": null,
   "id": "12059576",
   "metadata": {},
   "outputs": [],
   "source": []
  }
 ],
 "metadata": {
  "kernelspec": {
   "display_name": "Python 3",
   "language": "python",
   "name": "python3"
  },
  "language_info": {
   "codemirror_mode": {
    "name": "ipython",
    "version": 3
   },
   "file_extension": ".py",
   "mimetype": "text/x-python",
   "name": "python",
   "nbconvert_exporter": "python",
   "pygments_lexer": "ipython3",
   "version": "3.8.8"
  }
 },
 "nbformat": 4,
 "nbformat_minor": 5
}
